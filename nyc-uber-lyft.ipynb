{
 "cells": [
  {
   "cell_type": "markdown",
   "id": "0420a088-7e63-43a9-b215-4e306dc8f8d3",
   "metadata": {},
   "source": [
    "# Crunching Data at Scale with Dask"
   ]
  },
  {
   "cell_type": "code",
   "execution_count": null,
   "id": "eb3e8a45-3698-4226-8ca4-e7a910fa9c4a",
   "metadata": {},
   "outputs": [],
   "source": []
  },
  {
   "cell_type": "code",
   "execution_count": null,
   "id": "e44d032b-3d7e-405b-be7e-dceade678973",
   "metadata": {},
   "outputs": [],
   "source": []
  },
  {
   "cell_type": "markdown",
   "id": "f87229e4-093e-49e7-8b1a-6d557f548154",
   "metadata": {
    "jp-MarkdownHeadingCollapsed": true,
    "tags": []
   },
   "source": [
    "## Spin up Cloud Resources"
   ]
  },
  {
   "cell_type": "code",
   "execution_count": 24,
   "id": "ec6ec0e2-2bff-47b2-af39-00f3b35887b3",
   "metadata": {},
   "outputs": [
    {
     "data": {
      "text/html": [
       "<pre style=\"white-space:pre;overflow-x:auto;line-height:normal;font-family:Menlo,'DejaVu Sans Mono',consolas,'Courier New',monospace\">╭───────────────────────────────────────── <span style=\"color: #008000; text-decoration-color: #008000; font-weight: bold\">Package Issues</span> ─────────────────────────────────────────╮\n",
       "│                      ╷                                                          ╷                │\n",
       "│  <span style=\"font-weight: bold\"> Package            </span>│<span style=\"font-weight: bold\"> Issue                                                    </span>│<span style=\"font-weight: bold\"> Risk Level   </span>  │\n",
       "│ ╶────────────────────┼──────────────────────────────────────────────────────────┼──────────────╴ │\n",
       "│   libgfortran5       │ 11.3.0 has no install candidate for linux-64             │                │\n",
       "│   libgfortran        │ 5.0.0 has no install candidate for linux-64              │                │\n",
       "│   grpcio             │ 1.46.3 has no install candidate for linux-64             │                │\n",
       "│   grpc-cpp           │ 1.46.3 has no install candidate for linux-64             │                │\n",
       "│   arrow-cpp          │ 8.0.0 has no install candidate for linux-64              │                │\n",
       "│   openssl            │ Package ignored                                          │                │\n",
       "│   coiled-runtime     │ Package ignored                                          │                │\n",
       "│   abseil-cpp         │ Package ignored                                          │                │\n",
       "│                      ╵                                                          ╵                │\n",
       "╰──────────────────────────────────────────────────────────────────────────────────────────────────╯\n",
       "</pre>\n"
      ],
      "text/plain": [
       "╭───────────────────────────────────────── \u001b[1;32mPackage Issues\u001b[0m ─────────────────────────────────────────╮\n",
       "│                      ╷                                                          ╷                │\n",
       "│  \u001b[1m \u001b[0m\u001b[1mPackage           \u001b[0m\u001b[1m \u001b[0m│\u001b[1m \u001b[0m\u001b[1mIssue                                                   \u001b[0m\u001b[1m \u001b[0m│\u001b[1m \u001b[0m\u001b[1mRisk Level  \u001b[0m\u001b[1m \u001b[0m  │\n",
       "│ ╶────────────────────┼──────────────────────────────────────────────────────────┼──────────────╴ │\n",
       "│   libgfortran5       │ 11.3.0 has no install candidate for linux-64             │                │\n",
       "│   libgfortran        │ 5.0.0 has no install candidate for linux-64              │                │\n",
       "│   grpcio             │ 1.46.3 has no install candidate for linux-64             │                │\n",
       "│   grpc-cpp           │ 1.46.3 has no install candidate for linux-64             │                │\n",
       "│   arrow-cpp          │ 8.0.0 has no install candidate for linux-64              │                │\n",
       "│   openssl            │ Package ignored                                          │                │\n",
       "│   coiled-runtime     │ Package ignored                                          │                │\n",
       "│   abseil-cpp         │ Package ignored                                          │                │\n",
       "│                      ╵                                                          ╵                │\n",
       "╰──────────────────────────────────────────────────────────────────────────────────────────────────╯\n"
      ]
     },
     "metadata": {},
     "output_type": "display_data"
    },
    {
     "data": {
      "application/vnd.jupyter.widget-view+json": {
       "model_id": "626800ef3001469dab3009a1f4d4cb6c",
       "version_major": 2,
       "version_minor": 0
      },
      "text/plain": [
       "Output()"
      ]
     },
     "metadata": {},
     "output_type": "display_data"
    },
    {
     "data": {
      "text/html": [
       "<pre style=\"white-space:pre;overflow-x:auto;line-height:normal;font-family:Menlo,'DejaVu Sans Mono',consolas,'Courier New',monospace\"></pre>\n"
      ],
      "text/plain": []
     },
     "metadata": {},
     "output_type": "display_data"
    },
    {
     "name": "stderr",
     "output_type": "stream",
     "text": [
      "/Users/rpelgrim/mambaforge/envs/datashader/lib/python3.10/site-packages/distributed/client.py:1274: VersionMismatchWarning: Mismatched versions found\n",
      "\n",
      "+---------+--------+-----------+---------+\n",
      "| Package | client | scheduler | workers |\n",
      "+---------+--------+-----------+---------+\n",
      "| lz4     | 4.0.0  | 4.0.2     | 4.0.2   |\n",
      "+---------+--------+-----------+---------+\n",
      "  warnings.warn(version_module.VersionMismatchWarning(msg[0][\"warning\"]))\n"
     ]
    }
   ],
   "source": [
    "import coiled\n",
    "\n",
    "cluster = coiled.Cluster(\n",
    "    name=\"uber-lyft\",\n",
    "    n_workers=10,\n",
    "    package_sync=True,\n",
    ")\n",
    "\n",
    "from distributed import Client\n",
    "client = Client(cluster)"
   ]
  },
  {
   "cell_type": "markdown",
   "id": "bd0f67bc-21ab-4cc8-a99a-12cae9f277e9",
   "metadata": {},
   "source": [
    "## Load Data from S3"
   ]
  },
  {
   "cell_type": "code",
   "execution_count": 25,
   "id": "ac81503b-06fc-45f4-a06c-4990e66866b4",
   "metadata": {},
   "outputs": [],
   "source": [
    "import dask.dataframe as dd"
   ]
  },
  {
   "cell_type": "code",
   "execution_count": 26,
   "id": "cb3878f8-602c-4dc4-a42b-eb88e69de78a",
   "metadata": {},
   "outputs": [
    {
     "data": {
      "text/html": [
       "<div>\n",
       "<style scoped>\n",
       "    .dataframe tbody tr th:only-of-type {\n",
       "        vertical-align: middle;\n",
       "    }\n",
       "\n",
       "    .dataframe tbody tr th {\n",
       "        vertical-align: top;\n",
       "    }\n",
       "\n",
       "    .dataframe thead th {\n",
       "        text-align: right;\n",
       "    }\n",
       "</style>\n",
       "<table border=\"1\" class=\"dataframe\">\n",
       "  <thead>\n",
       "    <tr style=\"text-align: right;\">\n",
       "      <th></th>\n",
       "      <th>hvfhs_license_num</th>\n",
       "      <th>dispatching_base_num</th>\n",
       "      <th>originating_base_num</th>\n",
       "      <th>on_scene_datetime</th>\n",
       "      <th>pickup_datetime</th>\n",
       "      <th>dropoff_datetime</th>\n",
       "      <th>PULocationID</th>\n",
       "      <th>DOLocationID</th>\n",
       "      <th>trip_miles</th>\n",
       "      <th>trip_time</th>\n",
       "      <th>...</th>\n",
       "      <th>sales_tax</th>\n",
       "      <th>congestion_surcharge</th>\n",
       "      <th>airport_fee</th>\n",
       "      <th>tips</th>\n",
       "      <th>driver_pay</th>\n",
       "      <th>shared_request_flag</th>\n",
       "      <th>shared_match_flag</th>\n",
       "      <th>access_a_ride_flag</th>\n",
       "      <th>wav_request_flag</th>\n",
       "      <th>wav_match_flag</th>\n",
       "    </tr>\n",
       "    <tr>\n",
       "      <th>request_datetime</th>\n",
       "      <th></th>\n",
       "      <th></th>\n",
       "      <th></th>\n",
       "      <th></th>\n",
       "      <th></th>\n",
       "      <th></th>\n",
       "      <th></th>\n",
       "      <th></th>\n",
       "      <th></th>\n",
       "      <th></th>\n",
       "      <th></th>\n",
       "      <th></th>\n",
       "      <th></th>\n",
       "      <th></th>\n",
       "      <th></th>\n",
       "      <th></th>\n",
       "      <th></th>\n",
       "      <th></th>\n",
       "      <th></th>\n",
       "      <th></th>\n",
       "      <th></th>\n",
       "    </tr>\n",
       "  </thead>\n",
       "  <tbody>\n",
       "    <tr>\n",
       "      <th>2019-01-31 23:19:44</th>\n",
       "      <td>HV0003</td>\n",
       "      <td>B02887</td>\n",
       "      <td>B02887</td>\n",
       "      <td>2019-01-31 23:57:51</td>\n",
       "      <td>2019-02-01 00:00:25</td>\n",
       "      <td>2019-02-01 01:17:06</td>\n",
       "      <td>68</td>\n",
       "      <td>265</td>\n",
       "      <td>57.380001</td>\n",
       "      <td>4601</td>\n",
       "      <td>...</td>\n",
       "      <td>14.12</td>\n",
       "      <td>0.0</td>\n",
       "      <td>&lt;NA&gt;</td>\n",
       "      <td>0.0</td>\n",
       "      <td>131.330002</td>\n",
       "      <td>N</td>\n",
       "      <td>N</td>\n",
       "      <td>N</td>\n",
       "      <td>N</td>\n",
       "      <td>NaN</td>\n",
       "    </tr>\n",
       "    <tr>\n",
       "      <th>2019-01-31 23:33:26</th>\n",
       "      <td>HV0003</td>\n",
       "      <td>B02682</td>\n",
       "      <td>B02682</td>\n",
       "      <td>2019-01-31 23:58:53</td>\n",
       "      <td>2019-02-01 00:01:23</td>\n",
       "      <td>2019-02-01 00:42:33</td>\n",
       "      <td>90</td>\n",
       "      <td>188</td>\n",
       "      <td>8.740000</td>\n",
       "      <td>2471</td>\n",
       "      <td>...</td>\n",
       "      <td>0.60</td>\n",
       "      <td>0.0</td>\n",
       "      <td>&lt;NA&gt;</td>\n",
       "      <td>0.0</td>\n",
       "      <td>16.040001</td>\n",
       "      <td>Y</td>\n",
       "      <td>Y</td>\n",
       "      <td>N</td>\n",
       "      <td>N</td>\n",
       "      <td>NaN</td>\n",
       "    </tr>\n",
       "    <tr>\n",
       "      <th>2019-01-31 23:33:41</th>\n",
       "      <td>HV0003</td>\n",
       "      <td>B02887</td>\n",
       "      <td>B02887</td>\n",
       "      <td>2019-02-01 00:00:52</td>\n",
       "      <td>2019-02-01 00:03:36</td>\n",
       "      <td>2019-02-01 00:23:29</td>\n",
       "      <td>186</td>\n",
       "      <td>151</td>\n",
       "      <td>4.580000</td>\n",
       "      <td>1193</td>\n",
       "      <td>...</td>\n",
       "      <td>0.55</td>\n",
       "      <td>0.0</td>\n",
       "      <td>&lt;NA&gt;</td>\n",
       "      <td>0.0</td>\n",
       "      <td>5.330000</td>\n",
       "      <td>Y</td>\n",
       "      <td>Y</td>\n",
       "      <td>N</td>\n",
       "      <td>N</td>\n",
       "      <td>NaN</td>\n",
       "    </tr>\n",
       "    <tr>\n",
       "      <th>2019-01-31 23:34:00</th>\n",
       "      <td>HV0003</td>\n",
       "      <td>B02878</td>\n",
       "      <td>B02878</td>\n",
       "      <td>2019-01-31 23:57:06</td>\n",
       "      <td>2019-02-01 00:01:33</td>\n",
       "      <td>2019-02-01 00:11:58</td>\n",
       "      <td>186</td>\n",
       "      <td>125</td>\n",
       "      <td>2.230000</td>\n",
       "      <td>624</td>\n",
       "      <td>...</td>\n",
       "      <td>1.21</td>\n",
       "      <td>0.0</td>\n",
       "      <td>&lt;NA&gt;</td>\n",
       "      <td>1.0</td>\n",
       "      <td>8.280000</td>\n",
       "      <td>N</td>\n",
       "      <td>N</td>\n",
       "      <td>N</td>\n",
       "      <td>N</td>\n",
       "      <td>NaN</td>\n",
       "    </tr>\n",
       "    <tr>\n",
       "      <th>2019-01-31 23:35:01</th>\n",
       "      <td>HV0003</td>\n",
       "      <td>B02764</td>\n",
       "      <td>B02764</td>\n",
       "      <td>2019-02-01 00:05:11</td>\n",
       "      <td>2019-02-01 00:05:11</td>\n",
       "      <td>2019-02-01 00:06:10</td>\n",
       "      <td>231</td>\n",
       "      <td>231</td>\n",
       "      <td>0.090000</td>\n",
       "      <td>59</td>\n",
       "      <td>...</td>\n",
       "      <td>0.64</td>\n",
       "      <td>0.0</td>\n",
       "      <td>&lt;NA&gt;</td>\n",
       "      <td>0.0</td>\n",
       "      <td>5.550000</td>\n",
       "      <td>N</td>\n",
       "      <td>N</td>\n",
       "      <td>N</td>\n",
       "      <td>N</td>\n",
       "      <td>NaN</td>\n",
       "    </tr>\n",
       "  </tbody>\n",
       "</table>\n",
       "<p>5 rows × 23 columns</p>\n",
       "</div>"
      ],
      "text/plain": [
       "                    hvfhs_license_num dispatching_base_num  \\\n",
       "request_datetime                                             \n",
       "2019-01-31 23:19:44            HV0003               B02887   \n",
       "2019-01-31 23:33:26            HV0003               B02682   \n",
       "2019-01-31 23:33:41            HV0003               B02887   \n",
       "2019-01-31 23:34:00            HV0003               B02878   \n",
       "2019-01-31 23:35:01            HV0003               B02764   \n",
       "\n",
       "                    originating_base_num   on_scene_datetime  \\\n",
       "request_datetime                                               \n",
       "2019-01-31 23:19:44               B02887 2019-01-31 23:57:51   \n",
       "2019-01-31 23:33:26               B02682 2019-01-31 23:58:53   \n",
       "2019-01-31 23:33:41               B02887 2019-02-01 00:00:52   \n",
       "2019-01-31 23:34:00               B02878 2019-01-31 23:57:06   \n",
       "2019-01-31 23:35:01               B02764 2019-02-01 00:05:11   \n",
       "\n",
       "                        pickup_datetime    dropoff_datetime  PULocationID  \\\n",
       "request_datetime                                                            \n",
       "2019-01-31 23:19:44 2019-02-01 00:00:25 2019-02-01 01:17:06            68   \n",
       "2019-01-31 23:33:26 2019-02-01 00:01:23 2019-02-01 00:42:33            90   \n",
       "2019-01-31 23:33:41 2019-02-01 00:03:36 2019-02-01 00:23:29           186   \n",
       "2019-01-31 23:34:00 2019-02-01 00:01:33 2019-02-01 00:11:58           186   \n",
       "2019-01-31 23:35:01 2019-02-01 00:05:11 2019-02-01 00:06:10           231   \n",
       "\n",
       "                     DOLocationID  trip_miles  trip_time  ...  sales_tax  \\\n",
       "request_datetime                                          ...              \n",
       "2019-01-31 23:19:44           265   57.380001       4601  ...      14.12   \n",
       "2019-01-31 23:33:26           188    8.740000       2471  ...       0.60   \n",
       "2019-01-31 23:33:41           151    4.580000       1193  ...       0.55   \n",
       "2019-01-31 23:34:00           125    2.230000        624  ...       1.21   \n",
       "2019-01-31 23:35:01           231    0.090000         59  ...       0.64   \n",
       "\n",
       "                     congestion_surcharge  airport_fee  tips  driver_pay  \\\n",
       "request_datetime                                                           \n",
       "2019-01-31 23:19:44                   0.0         <NA>   0.0  131.330002   \n",
       "2019-01-31 23:33:26                   0.0         <NA>   0.0   16.040001   \n",
       "2019-01-31 23:33:41                   0.0         <NA>   0.0    5.330000   \n",
       "2019-01-31 23:34:00                   0.0         <NA>   1.0    8.280000   \n",
       "2019-01-31 23:35:01                   0.0         <NA>   0.0    5.550000   \n",
       "\n",
       "                    shared_request_flag  shared_match_flag  \\\n",
       "request_datetime                                             \n",
       "2019-01-31 23:19:44                   N                  N   \n",
       "2019-01-31 23:33:26                   Y                  Y   \n",
       "2019-01-31 23:33:41                   Y                  Y   \n",
       "2019-01-31 23:34:00                   N                  N   \n",
       "2019-01-31 23:35:01                   N                  N   \n",
       "\n",
       "                     access_a_ride_flag wav_request_flag wav_match_flag  \n",
       "request_datetime                                                         \n",
       "2019-01-31 23:19:44                   N                N            NaN  \n",
       "2019-01-31 23:33:26                   N                N            NaN  \n",
       "2019-01-31 23:33:41                   N                N            NaN  \n",
       "2019-01-31 23:34:00                   N                N            NaN  \n",
       "2019-01-31 23:35:01                   N                N            NaN  \n",
       "\n",
       "[5 rows x 23 columns]"
      ]
     },
     "execution_count": 26,
     "metadata": {},
     "output_type": "execute_result"
    }
   ],
   "source": [
    "df = dd.read_parquet(\"s3://coiled-datasets/mrocklin/nyc-taxi-fhv/\")\n",
    "df.head()"
   ]
  },
  {
   "cell_type": "code",
   "execution_count": 27,
   "id": "75b536a4-d5ac-4e4e-96e0-4092b83acfc7",
   "metadata": {},
   "outputs": [
    {
     "data": {
      "text/plain": [
       "Index(['hvfhs_license_num', 'dispatching_base_num', 'originating_base_num',\n",
       "       'on_scene_datetime', 'pickup_datetime', 'dropoff_datetime',\n",
       "       'PULocationID', 'DOLocationID', 'trip_miles', 'trip_time',\n",
       "       'base_passenger_fare', 'tolls', 'bcf', 'sales_tax',\n",
       "       'congestion_surcharge', 'airport_fee', 'tips', 'driver_pay',\n",
       "       'shared_request_flag', 'shared_match_flag', 'access_a_ride_flag',\n",
       "       'wav_request_flag', 'wav_match_flag'],\n",
       "      dtype='object')"
      ]
     },
     "execution_count": 27,
     "metadata": {},
     "output_type": "execute_result"
    }
   ],
   "source": [
    "df.columns"
   ]
  },
  {
   "cell_type": "code",
   "execution_count": null,
   "id": "3d8de25a-6dbb-42c9-8d78-e7cc02f97dd6",
   "metadata": {},
   "outputs": [],
   "source": []
  },
  {
   "cell_type": "markdown",
   "id": "ca5dacc7-6bed-4bc5-8397-c3dc5b14b910",
   "metadata": {},
   "source": [
    "## Some Basic Analysis"
   ]
  },
  {
   "cell_type": "code",
   "execution_count": 4,
   "id": "97122edd-11ee-4c8f-af73-cf6571533909",
   "metadata": {},
   "outputs": [
    {
     "data": {
      "text/plain": [
       "1000.0"
      ]
     },
     "execution_count": 4,
     "metadata": {},
     "output_type": "execute_result"
    }
   ],
   "source": [
    "df.tips.max().compute()"
   ]
  },
  {
   "cell_type": "code",
   "execution_count": 5,
   "id": "3c8cf492-a1cd-451c-9da8-f17562066eb2",
   "metadata": {},
   "outputs": [
    {
     "data": {
      "text/plain": [
       "1310.51"
      ]
     },
     "execution_count": 5,
     "metadata": {},
     "output_type": "execute_result"
    }
   ],
   "source": [
    "df.trip_miles.max().compute()"
   ]
  },
  {
   "cell_type": "code",
   "execution_count": 6,
   "id": "23000575-5916-40bb-8706-854df864ea8f",
   "metadata": {},
   "outputs": [
    {
     "data": {
      "text/plain": [
       "0.15037364554240487"
      ]
     },
     "execution_count": 6,
     "metadata": {},
     "output_type": "execute_result"
    }
   ],
   "source": [
    "(df.tips != 0).mean().compute()"
   ]
  },
  {
   "cell_type": "code",
   "execution_count": null,
   "id": "f010aa09-7ef7-4912-8a3c-bdef46fd2f3b",
   "metadata": {},
   "outputs": [],
   "source": []
  },
  {
   "cell_type": "markdown",
   "id": "e9b6843f-8a3c-408f-ac0d-e86efd633314",
   "metadata": {},
   "source": [
    "## Drivers' Cut"
   ]
  },
  {
   "cell_type": "code",
   "execution_count": 8,
   "id": "0cb4a5dc-7dc8-4094-bc45-b0a5d8127d12",
   "metadata": {},
   "outputs": [
    {
     "data": {
      "text/plain": [
       "12770091000.0"
      ]
     },
     "execution_count": 8,
     "metadata": {},
     "output_type": "execute_result"
    }
   ],
   "source": [
    "df.base_passenger_fare.sum().compute()"
   ]
  },
  {
   "cell_type": "code",
   "execution_count": 15,
   "id": "d3347b84-0d02-4b11-8d00-d21a2ea2b2b4",
   "metadata": {},
   "outputs": [
    {
     "data": {
      "text/plain": [
       "10403010000.0"
      ]
     },
     "execution_count": 15,
     "metadata": {},
     "output_type": "execute_result"
    }
   ],
   "source": [
    "df.driver_pay.sum().compute()"
   ]
  },
  {
   "cell_type": "code",
   "execution_count": 16,
   "id": "fba89039-bdb8-48da-9042-d0c3b42df4c9",
   "metadata": {},
   "outputs": [
    {
     "data": {
      "text/plain": [
       "1076015600.0"
      ]
     },
     "execution_count": 16,
     "metadata": {},
     "output_type": "execute_result"
    }
   ],
   "source": [
    "df.sales_tax.sum().compute()"
   ]
  },
  {
   "cell_type": "code",
   "execution_count": null,
   "id": "c6b78a06-1595-4c06-a922-267ca8037d2d",
   "metadata": {},
   "outputs": [],
   "source": []
  },
  {
   "cell_type": "code",
   "execution_count": null,
   "id": "8abffb85-93fc-4105-8ca4-925292c721f7",
   "metadata": {},
   "outputs": [],
   "source": []
  },
  {
   "cell_type": "markdown",
   "id": "657e241f-6570-4f74-b767-1b05f3b3c5ca",
   "metadata": {},
   "source": [
    "## Covid Impact"
   ]
  },
  {
   "cell_type": "code",
   "execution_count": 20,
   "id": "bfec54b1-cd3d-4222-9878-7a76a2d8bd0e",
   "metadata": {},
   "outputs": [],
   "source": [
    "count_per_year = (\n",
    "    df.groupby(df.pickup_datetime.dt.year).trip_miles.count().compute()\n",
    ")"
   ]
  },
  {
   "cell_type": "code",
   "execution_count": 22,
   "id": "29281e41-81bc-4120-ae04-8c4b11a0bd6c",
   "metadata": {},
   "outputs": [
    {
     "data": {
      "image/png": "[encoded data removed]",
      "text/plain": [
       "<Figure size 640x480 with 1 Axes>"
      ]
     },
     "metadata": {},
     "output_type": "display_data"
    }
   ],
   "source": [
    "count_per_year.plot(\n",
    "    xticks=range(2019, 2021 + 1),\n",
    "    title=\"Number of Fares per Year\",\n",
    "    xlabel=\"year\",\n",
    "    ylabel=\"n_fares\",\n",
    ");"
   ]
  },
  {
   "cell_type": "code",
   "execution_count": null,
   "id": "eca429cf-3a85-4f00-80f5-374e00e25162",
   "metadata": {},
   "outputs": [],
   "source": [
    "# this is not super informative since we only have data from 2019 onwards"
   ]
  },
  {
   "cell_type": "code",
   "execution_count": null,
   "id": "6f95a233-bc4f-477c-8c25-b7b856f7ac80",
   "metadata": {},
   "outputs": [],
   "source": []
  },
  {
   "cell_type": "markdown",
   "id": "33cc657f-f795-47f3-83c7-bd27d3f21698",
   "metadata": {},
   "source": [
    "## Tips per Year"
   ]
  },
  {
   "cell_type": "code",
   "execution_count": 29,
   "id": "b9e2aba2-95d0-4e58-9d6a-32b1df5a6727",
   "metadata": {},
   "outputs": [],
   "source": [
    "# get mean tip per year\n",
    "tip_per_year = df.groupby(df.pickup_datetime.dt.year).tips.mean().compute()"
   ]
  },
  {
   "cell_type": "code",
   "execution_count": 30,
   "id": "f49a0925-92f9-4638-914a-6e74e8ae7537",
   "metadata": {},
   "outputs": [
    {
     "data": {
      "image/png": "[encoded data removed]",
      "text/plain": [
       "<Figure size 640x480 with 1 Axes>"
      ]
     },
     "metadata": {},
     "output_type": "display_data"
    }
   ],
   "source": [
    "tip_per_year.plot(\n",
    "    xticks=range(2019, 2021 + 1),\n",
    "    title=\"Mean Tip per Year\",\n",
    "    xlabel=\"year\",\n",
    "    ylabel=\"mean tip_amount\",\n",
    ");"
   ]
  },
  {
   "cell_type": "code",
   "execution_count": null,
   "id": "8f7ec5ee-aa25-4670-be14-c0c50558e2b9",
   "metadata": {},
   "outputs": [],
   "source": []
  }
 ],
 "metadata": {
  "kernelspec": {
   "display_name": "Python [conda env:datashader] *",
   "language": "python",
   "name": "conda-env-datashader-py"
  },
  "language_info": {
   "codemirror_mode": {
    "name": "ipython",
    "version": 3
   },
   "file_extension": ".py",
   "mimetype": "text/x-python",
   "name": "python",
   "nbconvert_exporter": "python",
   "pygments_lexer": "ipython3",
   "version": "3.10.6"
  }
 },
 "nbformat": 4,
 "nbformat_minor": 5
}
